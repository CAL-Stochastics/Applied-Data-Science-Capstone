{
 "cells": [
  {
   "cell_type": "markdown",
   "metadata": {},
   "source": [
    "# Capstone Week 4 and 5"
   ]
  },
  {
   "cell_type": "markdown",
   "metadata": {},
   "source": [
    "## London's East Asian Restaurants: A neighbourhood analysis"
   ]
  },
  {
   "cell_type": "markdown",
   "metadata": {},
   "source": [
    "In this notebook, I analyse Foursquare data from London to define geographical distribution of Asian cuisine restaurants accross the London area.\n",
    "\n",
    "### The Background\n",
    "\n",
    "In the previous notebook for Week 3, I analysed Toronto's most central neighbourhoods and used K-Means to cluster neighbourhoods. The clusters obtained were not precise enough to define by its most common venue type. This is due to the small data population as data from the entire Toronto area is narrowed to the set of boroughs containing the word 'Toronto', mainly the central area of Toronto. \n",
    "\n",
    "Another issue is the high number of venue types. Indeed, for 38 neighbourhoods in the final Toronto dataframe, there are 238 unique venue types. This translates into low frequency counts and most common venue types that are too dispersed to cluster neatly. Looking at final clusters, there is often an overlap of venue types that could have been better defined earlier in the process. Indeed, overlapping labels like 'coffee' and 'coffee shop' can be regrouped into one label, as well as 'bar', 'cocktail bar', 'pub', 'beer bar', thereby reducing our count of unique venue types.\n",
    "\n",
    "\n",
    "### The Problem\n",
    "\n",
    "By choosing London, another multicultural, populous and large city, I am assuming the initial data resulting from the call to Foursquare's API is large enough to further narrow down to East Asian denominated cuisines. London is home to many Asian minorities and I will try to first regroup Foursquare's API results into a set of clearly denominated buckets. Depending on the number of venue types in the Asian cuisine group, I would like to narrow this set into of labels consisting of: Chinese, Japanese, Korean, Indian, Pakistani, Thai, Vietnamese; 7 unique venue types. Furthermore, if, the venue type returned by Foursquare for an establishment is a type of dish that is a specialty of a certain type of cuisine then it's re-labelled as the country that cuisine belongs to. For example if the venue type is 'Sushi', then we'll relabel as 'Japanese', if it's 'bubble tea', relabel as 'Chinese', for 'Pho' relabel as 'Vietnamese'. \n",
    "\n",
    "The main challenges for this analysis are two fold. First, to find a proper and efficient way to label and group venue types according to a pre-defined set of venues. Second, to obtain clusters that are statistically meaningful in order to get clusters for the 7 venue types defined at the beginning.\n",
    "\n",
    "The result should be a map of clusters defining areas of London where one is more likely to find a certain type of cuisine. A traveler or specialist would find this a useful guide. A consultancy or banking business might also find this helpful when assessing proposals for a new restaurant or real estate venture.  \n",
    "\n",
    "## The Data\n",
    "\n",
    "For this notebook, I work mainly with the json results from Foursquare's API. London Postcode or geocoordinates may additionally be used to map clusters."
   ]
  },
  {
   "cell_type": "code",
   "execution_count": null,
   "metadata": {},
   "outputs": [],
   "source": []
  }
 ],
 "metadata": {
  "kernelspec": {
   "display_name": "Python 3",
   "language": "python",
   "name": "python3"
  },
  "language_info": {
   "codemirror_mode": {
    "name": "ipython",
    "version": 3
   },
   "file_extension": ".py",
   "mimetype": "text/x-python",
   "name": "python",
   "nbconvert_exporter": "python",
   "pygments_lexer": "ipython3",
   "version": "3.6.8"
  }
 },
 "nbformat": 4,
 "nbformat_minor": 2
}
